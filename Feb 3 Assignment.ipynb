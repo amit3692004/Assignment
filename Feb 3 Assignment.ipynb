{
 "cells": [
  {
   "cell_type": "code",
   "execution_count": 11,
   "id": "a3e3ce67-a82a-48b1-9cb4-8a8d80a9722e",
   "metadata": {},
   "outputs": [
    {
     "name": "stdout",
     "output_type": "stream",
     "text": [
      "[1, 3, 5, 7, 9, 11, 13, 15, 17, 19, 21, 23, 25]\n"
     ]
    }
   ],
   "source": [
    "# Q1. Which keyword is used to create a function? Create a function to return a list of odd numbers in the\n",
    "# range of 1 to 25.\n",
    "#Ans :def is the funtion keyword\n",
    "def odd():\n",
    "    odd_no=[]\n",
    "    for i in range(1,26):\n",
    "        if i%2!=0:\n",
    "            odd_no.append(i)\n",
    "    return odd_no\n",
    "odd_no_list=odd()\n",
    "print(odd_no_list)"
   ]
  },
  {
   "cell_type": "code",
   "execution_count": 1,
   "id": "3ee09e9b-1189-4428-bd6c-9d01be9d92de",
   "metadata": {},
   "outputs": [
    {
     "data": {
      "text/plain": [
       "((1, 2, 3, 4, 5), 9)"
      ]
     },
     "execution_count": 1,
     "metadata": {},
     "output_type": "execute_result"
    }
   ],
   "source": [
    "# Q2. Why *args and **kwargs is used in some functions? Create a function each for *args and **kwargs\n",
    "# to demonstrate their use.\n",
    "# Ans :*args is used to pass a variable number of non-keyworded arguments to a function and output in tupple form.\n",
    "\n",
    "def test13(*args,a):\n",
    "    return args,a\n",
    "\n",
    "test13(1,2,3,4,5,a=9)"
   ]
  },
  {
   "cell_type": "code",
   "execution_count": 2,
   "id": "cff53d30-11af-4daf-a981-28d61113dfb8",
   "metadata": {},
   "outputs": [
    {
     "data": {
      "text/plain": [
       "{'a': [1, 2, 3, 4], 'b': 'sudh', 'c': 23.45}"
      ]
     },
     "execution_count": 2,
     "metadata": {},
     "output_type": "execute_result"
    }
   ],
   "source": [
    "# **kwargs is also used to pass a variable number of keyword arguments to a function,like in key value pair format but out put is dictionary.\n",
    "def test15(**kargs):\n",
    "    return kargs\n",
    "\n",
    "test15(a=[1,2,3,4,],b=\"sudh\",c=23.45)"
   ]
  },
  {
   "cell_type": "code",
   "execution_count": 9,
   "id": "5d372469-66d3-4585-994d-fee76a772852",
   "metadata": {},
   "outputs": [
    {
     "name": "stdout",
     "output_type": "stream",
     "text": [
      "2\n",
      "4\n",
      "6\n",
      "8\n",
      "10\n"
     ]
    }
   ],
   "source": [
    "# Q3. What is an iterator in python? Name the method used to initialise the iterator object and the method\n",
    "# used for iteration. Use these methods to print the first five elements of the given list [2, 4, 6, 8, 10, 12, 14,\n",
    "# 16, 18, 20].\n",
    "\n",
    "#Ans iterator is an object using methods like __iter__() and __next__()  , iterables objects are lists, tuples, strings, dictionaries.\n",
    "list = [2, 4, 6, 8, 10, 12, 14,16, 18, 20]\n",
    "# initialize the iter object\n",
    "list_iter = iter(list)\n",
    "\n",
    "for i in range(5):\n",
    "    print(next(list_iter))\n"
   ]
  },
  {
   "cell_type": "code",
   "execution_count": 10,
   "id": "d973d76a-186b-4f4a-bcf9-47f151b8f1e0",
   "metadata": {},
   "outputs": [
    {
     "name": "stdout",
     "output_type": "stream",
     "text": [
      "0\n",
      "1\n",
      "1\n",
      "2\n",
      "3\n",
      "5\n",
      "8\n",
      "13\n",
      "21\n",
      "34\n"
     ]
    }
   ],
   "source": [
    "\n",
    "# Q4. What is a generator function in python? Why yield keyword is used? Give an example of a generator\n",
    "# function.\n",
    "#Ans Generator Fn is function that returns an iterator by using \"yield\" keyword not the \"return\". Yeild keyword is used to yield the value \n",
    "# and allow the generator function to generate sequence of value one by one.\n",
    "\n",
    "def test_fib(n):\n",
    "    a,b=0,1\n",
    "    for i in range(n):\n",
    "        yield a               #(Yield is a generator function to generate data like range also)\n",
    "        a,b=b,a+b\n",
    "    \n",
    "for i in test_fib(10):\n",
    "    print(i)"
   ]
  },
  {
   "cell_type": "code",
   "execution_count": 11,
   "id": "39b2855b-626e-4701-9684-f918fc4674e3",
   "metadata": {},
   "outputs": [
    {
     "name": "stdout",
     "output_type": "stream",
     "text": [
      "0\n",
      "1\n",
      "1\n",
      "2\n",
      "3\n",
      "5\n",
      "8\n",
      "13\n",
      "21\n",
      "34\n"
     ]
    }
   ],
   "source": [
    "def test_fib1():\n",
    "    a,b=0,1\n",
    "    while True:\n",
    "        yield a               \n",
    "        a,b=b,a+b\n",
    "        \n",
    "fib = test_fib1()\n",
    "for i in range(10):\n",
    "    print(next(fib))"
   ]
  },
  {
   "cell_type": "code",
   "execution_count": 18,
   "id": "9874946e-8387-4760-a0c6-6d4d8d95e9c0",
   "metadata": {},
   "outputs": [
    {
     "name": "stdout",
     "output_type": "stream",
     "text": [
      "2\n",
      "3\n",
      "5\n",
      "7\n",
      "11\n",
      "13\n",
      "17\n",
      "19\n",
      "23\n",
      "29\n",
      "31\n",
      "37\n",
      "41\n",
      "43\n",
      "47\n",
      "53\n",
      "59\n",
      "61\n",
      "67\n",
      "71\n"
     ]
    }
   ],
   "source": [
    "def generate_primes():\n",
    "    # Generate prime numbers less than 1000\n",
    "    for num in range(2, 1000):\n",
    "        is_prime = True\n",
    "        for i in range(2, num):\n",
    "            if num % i == 0:\n",
    "                is_prime = False\n",
    "                break\n",
    "        if is_prime:\n",
    "            yield num\n",
    "primes = generate_primes()\n",
    "for i in range(20):\n",
    "    print(next(primes))"
   ]
  },
  {
   "cell_type": "code",
   "execution_count": 19,
   "id": "e8d8a318-f13d-489f-ab8b-31b5bd981887",
   "metadata": {},
   "outputs": [
    {
     "name": "stdout",
     "output_type": "stream",
     "text": [
      "0\n",
      "1\n",
      "1\n",
      "2\n",
      "3\n",
      "5\n",
      "8\n",
      "13\n",
      "21\n",
      "34\n"
     ]
    }
   ],
   "source": [
    "# Q6. Write a python program to print the first 10 Fibonacci numbers using a while loop.\n",
    "def test_fib1():\n",
    "    a,b=0,1\n",
    "    while True:\n",
    "        yield a               \n",
    "        a,b=b,a+b\n",
    "        \n",
    "fib = test_fib1()\n",
    "for i in range(10):\n",
    "    print(next(fib))"
   ]
  },
  {
   "cell_type": "code",
   "execution_count": 1,
   "id": "73cdbc40-480a-45c4-a403-0fb2ac4834cc",
   "metadata": {},
   "outputs": [
    {
     "data": {
      "text/plain": [
       "['p', 'w', 's', 'k', 'i', 'l', 'l', 's']"
      ]
     },
     "execution_count": 1,
     "metadata": {},
     "output_type": "execute_result"
    }
   ],
   "source": [
    "# Q7. Write a List Comprehension to iterate through the given string: ‘pwskills’.\n",
    "# Expected output: ['p', 'w', 's', 'k', 'i', 'l', 'l', 's']\n",
    "\n",
    "string = \"pwskills\"\n",
    "[eachletter for eachletter in string]\n"
   ]
  },
  {
   "cell_type": "code",
   "execution_count": 4,
   "id": "40a27112-50ad-4e54-8e20-9db4fbd9244f",
   "metadata": {},
   "outputs": [
    {
     "name": "stdout",
     "output_type": "stream",
     "text": [
      "Number is NOT palindrome\n"
     ]
    }
   ],
   "source": [
    "# Q8. Write a python program to check whether a given number is Palindrome or not using a while loop.\n",
    "def palindrome(num):\n",
    "    temp = num\n",
    "    rev = 0\n",
    "    while temp > 0:\n",
    "        dig = temp % 10\n",
    "        rev = (rev*10) + dig\n",
    "\n",
    "        temp //= 10\n",
    "\n",
    "    if num == rev:\n",
    "        print(\"Number is palindrome\")\n",
    "    else:\n",
    "        print(\"Number is NOT palindrome\")\n",
    "\n",
    "palindrome(2991)"
   ]
  },
  {
   "cell_type": "code",
   "execution_count": 5,
   "id": "4d52e90c-dd7e-49a8-bf50-98ae36c86e97",
   "metadata": {},
   "outputs": [
    {
     "data": {
      "text/plain": [
       "[1,\n",
       " 2,\n",
       " 3,\n",
       " 4,\n",
       " 5,\n",
       " 6,\n",
       " 7,\n",
       " 8,\n",
       " 9,\n",
       " 10,\n",
       " 11,\n",
       " 12,\n",
       " 13,\n",
       " 14,\n",
       " 15,\n",
       " 16,\n",
       " 17,\n",
       " 18,\n",
       " 19,\n",
       " 20,\n",
       " 21,\n",
       " 22,\n",
       " 23,\n",
       " 24,\n",
       " 25,\n",
       " 26,\n",
       " 27,\n",
       " 28,\n",
       " 29,\n",
       " 30,\n",
       " 31,\n",
       " 32,\n",
       " 33,\n",
       " 34,\n",
       " 35,\n",
       " 36,\n",
       " 37,\n",
       " 38,\n",
       " 39,\n",
       " 40,\n",
       " 41,\n",
       " 42,\n",
       " 43,\n",
       " 44,\n",
       " 45,\n",
       " 46,\n",
       " 47,\n",
       " 48,\n",
       " 49,\n",
       " 50,\n",
       " 51,\n",
       " 52,\n",
       " 53,\n",
       " 54,\n",
       " 55,\n",
       " 56,\n",
       " 57,\n",
       " 58,\n",
       " 59,\n",
       " 60,\n",
       " 61,\n",
       " 62,\n",
       " 63,\n",
       " 64,\n",
       " 65,\n",
       " 66,\n",
       " 67,\n",
       " 68,\n",
       " 69,\n",
       " 70,\n",
       " 71,\n",
       " 72,\n",
       " 73,\n",
       " 74,\n",
       " 75,\n",
       " 76,\n",
       " 77,\n",
       " 78,\n",
       " 79,\n",
       " 80,\n",
       " 81,\n",
       " 82,\n",
       " 83,\n",
       " 84,\n",
       " 85,\n",
       " 86,\n",
       " 87,\n",
       " 88,\n",
       " 89,\n",
       " 90,\n",
       " 91,\n",
       " 92,\n",
       " 93,\n",
       " 94,\n",
       " 95,\n",
       " 96,\n",
       " 97,\n",
       " 98,\n",
       " 99,\n",
       " 100]"
      ]
     },
     "execution_count": 5,
     "metadata": {},
     "output_type": "execute_result"
    }
   ],
   "source": [
    "# Q9. Write a code to print odd numbers from 1 to 100 using list comprehension.\n",
    "# Note: Use a list comprehension to create a list from 1 to 100 and use another List comprehension to filter\n",
    "# out odd numbers.\n",
    "\n",
    "[num for num in range(1, 101)]"
   ]
  },
  {
   "cell_type": "code",
   "execution_count": 7,
   "id": "6ff8bad7-ce7b-4323-bcfa-38b6c7936848",
   "metadata": {},
   "outputs": [
    {
     "name": "stdout",
     "output_type": "stream",
     "text": [
      "[1, 3, 5, 7, 9, 11, 13, 15, 17, 19, 21, 23, 25, 27, 29, 31, 33, 35, 37, 39, 41, 43, 45, 47, 49, 51, 53, 55, 57, 59, 61, 63, 65, 67, 69, 71, 73, 75, 77, 79, 81, 83, 85, 87, 89, 91, 93, 95, 97, 99]\n"
     ]
    }
   ],
   "source": [
    "#Ans\n",
    "odd=[num for num in range(1, 101) if num % 2!=0 ]\n",
    "print (odd)"
   ]
  },
  {
   "cell_type": "code",
   "execution_count": null,
   "id": "d86118c7-fb7a-4adc-9897-602b2aa0cc63",
   "metadata": {},
   "outputs": [],
   "source": []
  }
 ],
 "metadata": {
  "kernelspec": {
   "display_name": "Python 3 (ipykernel)",
   "language": "python",
   "name": "python3"
  },
  "language_info": {
   "codemirror_mode": {
    "name": "ipython",
    "version": 3
   },
   "file_extension": ".py",
   "mimetype": "text/x-python",
   "name": "python",
   "nbconvert_exporter": "python",
   "pygments_lexer": "ipython3",
   "version": "3.10.8"
  }
 },
 "nbformat": 4,
 "nbformat_minor": 5
}
